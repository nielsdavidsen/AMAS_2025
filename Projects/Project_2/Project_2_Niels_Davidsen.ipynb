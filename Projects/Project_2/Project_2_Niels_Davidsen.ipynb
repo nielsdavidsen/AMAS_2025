{
 "cells": [
  {
   "cell_type": "markdown",
   "metadata": {},
   "source": [
    "# Code for AMAS project 2\n",
    "### *By Niels August Davidsen*"
   ]
  },
  {
   "cell_type": "markdown",
   "metadata": {},
   "source": []
  }
 ],
 "metadata": {
  "language_info": {
   "name": "python"
  }
 },
 "nbformat": 4,
 "nbformat_minor": 2
}
