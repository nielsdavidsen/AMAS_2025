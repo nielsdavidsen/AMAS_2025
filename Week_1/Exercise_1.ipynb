{
 "cells": [
  {
   "cell_type": "code",
   "execution_count": 1,
   "metadata": {},
   "outputs": [],
   "source": [
    "import re\n",
    "import numpy as np\n",
    "import pandas as pd\n",
    "import matplotlib.pyplot as plt\n",
    "from scipy.stats import chisquare"
   ]
  },
  {
   "cell_type": "markdown",
   "metadata": {},
   "source": [
    "## Exercise 1.1"
   ]
  },
  {
   "cell_type": "code",
   "execution_count": 2,
   "metadata": {},
   "outputs": [],
   "source": [
    "open_file = open(\"FranksNumbers.txt\", 'r')\n",
    "lines = open_file.readlines()\n",
    "open_file.close()\n",
    "\n",
    "data_list = []\n",
    "\n",
    "# Define regex cheking the first chracater is a digit\n",
    "regex_numb = re.compile(r'^[0-9]')\n",
    "regex_char = re.compile(r'^[a-zA-Z][A-Za-z]+')\n",
    "\n",
    "for i, line in enumerate(lines):\n",
    "    line = line.strip()\n",
    "    # Skipping the first line\n",
    "    if i == 0 or line == '':\n",
    "        continue\n",
    "\n",
    "    # Checking if the line starts with a word\n",
    "    if regex_char.match(line):\n",
    "        data_list.append([])\n",
    "\n",
    "    # Checking if the line starts with a number\n",
    "    if regex_numb.match(line):\n",
    "        split_line = line.split('\\t')\n",
    "        data_list[-1].append([float(split_line[0]), float(split_line[1])])\n",
    "\n",
    "# Convert the data_list into a numpy array\n",
    "data_array = [np.asarray(data) for data in data_list]\n",
    "\n",
    "\n"
   ]
  },
  {
   "cell_type": "code",
   "execution_count": 8,
   "metadata": {},
   "outputs": [
    {
     "name": "stdout",
     "output_type": "stream",
     "text": [
      "[[10.    8.04]\n",
      " [ 8.    6.95]\n",
      " [13.    7.58]\n",
      " [ 9.    8.81]\n",
      " [11.    8.33]\n",
      " [14.    9.96]\n",
      " [ 6.    7.24]\n",
      " [ 4.    4.26]\n",
      " [12.   10.84]\n",
      " [ 7.    4.82]\n",
      " [ 5.    5.68]]\n",
      "[ 8.04  6.95  7.58  8.81  8.33  9.96  7.24  4.26 10.84  4.82  5.68]\n"
     ]
    }
   ],
   "source": []
  },
  {
   "cell_type": "code",
   "execution_count": 105,
   "metadata": {},
   "outputs": [],
   "source": [
    "def extracted_values(array, index):\n",
    "    array_i = array[index]\n",
    "    biased_vari = np.var(array_i, axis=0, ddof=0)\n",
    "    unbiased_vari = np.var(array_i, axis=0, ddof=1)\n",
    "    mean = np.mean(array_i, axis=0)\n",
    "    return biased_vari, unbiased_vari, mean"
   ]
  },
  {
   "cell_type": "code",
   "execution_count": 108,
   "metadata": {},
   "outputs": [
    {
     "name": "stdout",
     "output_type": "stream",
     "text": [
      "Mean of y: 7.500909090909093\n",
      "Biased Variance of y: 3.7520628099173554\n",
      "Unbiased Variance of y: 4.127269090909091\n",
      "\n",
      "Mean of y: 7.500909090909091\n",
      "Biased Variance of y: 3.7523900826446277\n",
      "Unbiased Variance of y: 4.127629090909091\n",
      "\n",
      "Mean of y: 7.500000000000001\n",
      "Biased Variance of y: 3.747836363636364\n",
      "Unbiased Variance of y: 4.12262\n",
      "\n",
      "Mean of y: 7.50090909090909\n",
      "Biased Variance of y: 3.74840826446281\n",
      "Unbiased Variance of y: 4.12324909090909\n",
      "\n",
      "Mean of y: 7.500681818181815\n",
      "Biased Variance of y: 3.7501745351239673\n",
      "Unbiased Variance of y: 3.83738789640592\n",
      "\n"
     ]
    }
   ],
   "source": [
    "for i in range(len(data_array)):\n",
    "    biased_vari, unbiased_vari, mean = extracted_values(data_array, i)\n",
    "    print('Mean of y:', mean[1])\n",
    "    print('Biased Variance of y:', biased_vari[1])\n",
    "    print('Unbiased Variance of y:', unbiased_vari[1])\n",
    "    print()\n",
    "    \n",
    "        "
   ]
  },
  {
   "cell_type": "markdown",
   "metadata": {},
   "source": [
    "_____\n",
    "\n",
    "## Exercise 1.2"
   ]
  },
  {
   "cell_type": "code",
   "execution_count": 20,
   "metadata": {},
   "outputs": [
    {
     "name": "stdout",
     "output_type": "stream",
     "text": [
      "Chi square with sqrt(y) errors: 1.89\n",
      "Chi square with 1.22 errors: 9.47\n",
      "Reduced Chi square with sqrt(y) errors: 0.21\n",
      "Reduced Chi square with 1.22 errors: 1.05\n",
      "\n",
      "Chi square with sqrt(y) errors: 2.07\n",
      "Chi square with 1.22 errors: 9.48\n",
      "Reduced Chi square with sqrt(y) errors: 0.23\n",
      "Reduced Chi square with 1.22 errors: 1.05\n",
      "\n",
      "Chi square with sqrt(y) errors: 1.55\n",
      "Chi square with 1.22 errors: 9.46\n",
      "Reduced Chi square with sqrt(y) errors: 0.17\n",
      "Reduced Chi square with 1.22 errors: 1.05\n",
      "\n",
      "Chi square with sqrt(y) errors: 2.04\n",
      "Chi square with 1.22 errors: 9.45\n",
      "Reduced Chi square with sqrt(y) errors: 0.23\n",
      "Reduced Chi square with 1.22 errors: 1.05\n",
      "\n",
      "Chi square with sqrt(y) errors: 7.56\n",
      "Chi square with 1.22 errors: 37.86\n",
      "Reduced Chi square with sqrt(y) errors: 0.18\n",
      "Reduced Chi square with 1.22 errors: 0.90\n",
      "\n"
     ]
    }
   ],
   "source": [
    "def straight_line(x):\n",
    "    return x*0.48 + 3.02\n",
    "\n",
    "def chi_2_with_err(array, index, err):\n",
    "    y_exp = straight_line(array[index][:,0])\n",
    "    chi_squared = np.sum((array[index][:,1] - y_exp)**2/err**2)\n",
    "    chi_red = chi_squared/(len(array[index][:,0])-2)\n",
    "    return chi_squared, chi_red\n",
    "\n",
    "\n",
    "\n",
    "def chi_2_calc(array, index):\n",
    "\n",
    "    # Sqrt of the expected y values\n",
    "    sqrt_err = np.sqrt(straight_line(array[index][:,0]))\n",
    "\n",
    "    # Alternative error +- 1.22\n",
    "    alt_err = np.ones(len(array[index][:,0])) * 1.22\n",
    "\n",
    "    # Calculate chi squared with the two different errors\n",
    "    chi2_alt, chi2_alt_red = chi_2_with_err(array, index, alt_err)\n",
    "    chi2_sqrt, chi2_sqrt_red = chi_2_with_err(array, index, sqrt_err)\n",
    "\n",
    "    return (chi2_alt, chi2_alt_red), (chi2_sqrt, chi2_sqrt_red)\n",
    "\n",
    "\n",
    "for i in range(len(data_array)):\n",
    "    chi2_alt, chi2_sqrt = chi_2_calc(data_array, i)\n",
    "    print(f'Chi square with sqrt(y) errors: {chi2_sqrt[0]:.2f}\\nChi square with 1.22 errors: {chi2_alt[0]:.2f}')\n",
    "    print(f'Reduced Chi square with sqrt(y) errors: {chi2_sqrt[1]:.2f}\\nReduced Chi square with 1.22 errors: {chi2_alt[1]:.2f}\\n')\n",
    "\n",
    "    \n",
    "\n",
    "\n",
    "\n"
   ]
  },
  {
   "cell_type": "code",
   "execution_count": null,
   "metadata": {},
   "outputs": [],
   "source": []
  }
 ],
 "metadata": {
  "kernelspec": {
   "display_name": "Python 3",
   "language": "python",
   "name": "python3"
  },
  "language_info": {
   "codemirror_mode": {
    "name": "ipython",
    "version": 3
   },
   "file_extension": ".py",
   "mimetype": "text/x-python",
   "name": "python",
   "nbconvert_exporter": "python",
   "pygments_lexer": "ipython3",
   "version": "3.9.6"
  }
 },
 "nbformat": 4,
 "nbformat_minor": 2
}
