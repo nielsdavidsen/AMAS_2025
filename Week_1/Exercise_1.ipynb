{
 "cells": [
  {
   "cell_type": "code",
   "execution_count": 87,
   "metadata": {},
   "outputs": [],
   "source": [
    "import re\n",
    "import numpy as np\n",
    "import pandas as pd\n",
    "import matplotlib.pyplot as plt"
   ]
  },
  {
   "cell_type": "code",
   "execution_count": 102,
   "metadata": {},
   "outputs": [],
   "source": [
    "open_file = open(\"FranksNumbers.txt\", 'r')\n",
    "lines = open_file.readlines()\n",
    "open_file.close()\n",
    "\n",
    "data_list = []\n",
    "\n",
    "# Define regex cheking the first chracater is a digit\n",
    "regex_numb = re.compile(r'^[0-9]')\n",
    "regex_char = re.compile(r'^[a-zA-Z][A-Za-z]+')\n",
    "\n",
    "for i, line in enumerate(lines):\n",
    "    line = line.strip()\n",
    "    # Skipping the first line\n",
    "    if i == 0 or line == '':\n",
    "        continue\n",
    "\n",
    "    # Checking if the line starts with a word\n",
    "    if regex_char.match(line):\n",
    "        data_list.append([])\n",
    "\n",
    "    # Checking if the line starts with a number\n",
    "    if regex_numb.match(line):\n",
    "        split_line = line.split('\\t')\n",
    "        data_list[-1].append([float(split_line[0]), float(split_line[1])])\n",
    "\n",
    "# Convert the data_list into a numpy array\n",
    "data_array = [np.asarray(data) for data in data_list]\n"
   ]
  },
  {
   "cell_type": "code",
   "execution_count": 105,
   "metadata": {},
   "outputs": [],
   "source": [
    "def extracted_values(array, index):\n",
    "    array_i = array[index]\n",
    "    biased_vari = np.var(array_i, axis=0, ddof=0)\n",
    "    unbiased_vari = np.var(array_i, axis=0, ddof=1)\n",
    "    mean = np.mean(array_i, axis=0)\n",
    "    return biased_vari, unbiased_vari, mean"
   ]
  },
  {
   "cell_type": "code",
   "execution_count": 108,
   "metadata": {},
   "outputs": [
    {
     "name": "stdout",
     "output_type": "stream",
     "text": [
      "Mean of y: 7.500909090909093\n",
      "Biased Variance of y: 3.7520628099173554\n",
      "Unbiased Variance of y: 4.127269090909091\n",
      "\n",
      "Mean of y: 7.500909090909091\n",
      "Biased Variance of y: 3.7523900826446277\n",
      "Unbiased Variance of y: 4.127629090909091\n",
      "\n",
      "Mean of y: 7.500000000000001\n",
      "Biased Variance of y: 3.747836363636364\n",
      "Unbiased Variance of y: 4.12262\n",
      "\n",
      "Mean of y: 7.50090909090909\n",
      "Biased Variance of y: 3.74840826446281\n",
      "Unbiased Variance of y: 4.12324909090909\n",
      "\n",
      "Mean of y: 7.500681818181815\n",
      "Biased Variance of y: 3.7501745351239673\n",
      "Unbiased Variance of y: 3.83738789640592\n",
      "\n"
     ]
    }
   ],
   "source": [
    "for i in range(len(data_array)):\n",
    "    biased_vari, unbiased_vari, mean = extracted_values(data_array, i)\n",
    "    print('Mean of y:', mean[1])\n",
    "    print('Biased Variance of y:', biased_vari[1])\n",
    "    print('Unbiased Variance of y:', unbiased_vari[1])\n",
    "    print()\n",
    "    \n",
    "\n"
   ]
  },
  {
   "cell_type": "code",
   "execution_count": null,
   "metadata": {},
   "outputs": [],
   "source": []
  }
 ],
 "metadata": {
  "kernelspec": {
   "display_name": "Python 3",
   "language": "python",
   "name": "python3"
  },
  "language_info": {
   "codemirror_mode": {
    "name": "ipython",
    "version": 3
   },
   "file_extension": ".py",
   "mimetype": "text/x-python",
   "name": "python",
   "nbconvert_exporter": "python",
   "pygments_lexer": "ipython3",
   "version": "3.9.6"
  }
 },
 "nbformat": 4,
 "nbformat_minor": 2
}
